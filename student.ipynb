{
 "cells": [
  {
   "cell_type": "markdown",
   "metadata": {},
   "source": [
    "## Phase 1 Project-MICROSOFT MOVIE STUDIO ANALYSIS\n",
    "\n",
    "\n",
    "* Student name: JULLIET ISWANA\n",
    "* Student pace:  part time \n",
    "* Scheduled project review date/time: 24/07/2023\n",
    "* Instructor name: ASHA DEEN\n",
    "* GIT REPOSITORY:https://github.com/Iswana-O/dsc-phase-1-project/tree/master\n"
   ]
  },
  {
   "cell_type": "code",
   "execution_count": null,
   "metadata": {},
   "outputs": [],
   "source": [
    "# Your code here - remember to use markdown cells for comments as well!"
   ]
  }
 ],
 "metadata": {
  "kernelspec": {
   "display_name": "Python 3",
   "language": "python",
   "name": "python3"
  },
  "language_info": {
   "codemirror_mode": {
    "name": "ipython",
    "version": 3
   },
   "file_extension": ".py",
   "mimetype": "text/x-python",
   "name": "python",
   "nbconvert_exporter": "python",
   "pygments_lexer": "ipython3",
   "version": "3.8.5"
  }
 },
 "nbformat": 4,
 "nbformat_minor": 2
}
